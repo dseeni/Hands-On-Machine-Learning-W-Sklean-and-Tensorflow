{
 "cells": [
  {
   "cell_type": "markdown",
   "metadata": {},
   "source": [
    "## 1.1 Training and running a linear model using Scikit-Learn\n",
    "\n",
    "Fitting a linear model to attempt to discover a correlation between GDP per capita and life satisfaction index."
   ]
  },
  {
   "cell_type": "code",
   "execution_count": 58,
   "metadata": {},
   "outputs": [],
   "source": [
    "#Importing packages\n",
    "import matplotlib\n",
    "import matplotlib.pyplot as plt\n",
    "import numpy as np\n",
    "import pandas as pd\n",
    "from sklearn import linear_model\n",
    "%matplotlib inline"
   ]
  },
  {
   "cell_type": "code",
   "execution_count": 36,
   "metadata": {},
   "outputs": [
    {
     "data": {
      "text/html": [
       "<div>\n",
       "<table border=\"1\" class=\"dataframe\">\n",
       "  <thead>\n",
       "    <tr style=\"text-align: right;\">\n",
       "      <th>Indicator</th>\n",
       "      <th>Air pollution</th>\n",
       "      <th>Dwellings without basic facilities</th>\n",
       "      <th>Educational attainment</th>\n",
       "      <th>Employees working very long hours</th>\n",
       "      <th>Employment rate</th>\n",
       "      <th>Feeling safe walking alone at night</th>\n",
       "      <th>Homicide rate</th>\n",
       "      <th>Household net adjusted disposable income</th>\n",
       "      <th>Household net financial wealth</th>\n",
       "      <th>Housing expenditure</th>\n",
       "      <th>...</th>\n",
       "      <th>Personal earnings</th>\n",
       "      <th>Quality of support network</th>\n",
       "      <th>Rooms per person</th>\n",
       "      <th>Self-reported health</th>\n",
       "      <th>Stakeholder engagement for developing regulations</th>\n",
       "      <th>Student skills</th>\n",
       "      <th>Time devoted to leisure and personal care</th>\n",
       "      <th>Voter turnout</th>\n",
       "      <th>Water quality</th>\n",
       "      <th>Years in education</th>\n",
       "    </tr>\n",
       "    <tr>\n",
       "      <th>Country</th>\n",
       "      <th></th>\n",
       "      <th></th>\n",
       "      <th></th>\n",
       "      <th></th>\n",
       "      <th></th>\n",
       "      <th></th>\n",
       "      <th></th>\n",
       "      <th></th>\n",
       "      <th></th>\n",
       "      <th></th>\n",
       "      <th></th>\n",
       "      <th></th>\n",
       "      <th></th>\n",
       "      <th></th>\n",
       "      <th></th>\n",
       "      <th></th>\n",
       "      <th></th>\n",
       "      <th></th>\n",
       "      <th></th>\n",
       "      <th></th>\n",
       "      <th></th>\n",
       "    </tr>\n",
       "  </thead>\n",
       "  <tbody>\n",
       "    <tr>\n",
       "      <th>Australia</th>\n",
       "      <td>6</td>\n",
       "      <td>1.1</td>\n",
       "      <td>77</td>\n",
       "      <td>13.39</td>\n",
       "      <td>72</td>\n",
       "      <td>62.6</td>\n",
       "      <td>0.8</td>\n",
       "      <td>33138</td>\n",
       "      <td>48836</td>\n",
       "      <td>20</td>\n",
       "      <td>...</td>\n",
       "      <td>51148</td>\n",
       "      <td>95</td>\n",
       "      <td>2.3</td>\n",
       "      <td>85</td>\n",
       "      <td>2.7</td>\n",
       "      <td>512</td>\n",
       "      <td>14.35</td>\n",
       "      <td>93</td>\n",
       "      <td>94</td>\n",
       "      <td>19.2</td>\n",
       "    </tr>\n",
       "    <tr>\n",
       "      <th>Austria</th>\n",
       "      <td>15</td>\n",
       "      <td>1.0</td>\n",
       "      <td>84</td>\n",
       "      <td>7.32</td>\n",
       "      <td>71</td>\n",
       "      <td>81.2</td>\n",
       "      <td>0.4</td>\n",
       "      <td>31667</td>\n",
       "      <td>55623</td>\n",
       "      <td>21</td>\n",
       "      <td>...</td>\n",
       "      <td>45988</td>\n",
       "      <td>93</td>\n",
       "      <td>1.6</td>\n",
       "      <td>69</td>\n",
       "      <td>1.3</td>\n",
       "      <td>500</td>\n",
       "      <td>14.55</td>\n",
       "      <td>75</td>\n",
       "      <td>93</td>\n",
       "      <td>17.1</td>\n",
       "    </tr>\n",
       "  </tbody>\n",
       "</table>\n",
       "<p>2 rows × 24 columns</p>\n",
       "</div>"
      ],
      "text/plain": [
       "Indicator  Air pollution  Dwellings without basic facilities  \\\n",
       "Country                                                        \n",
       "Australia              6                                 1.1   \n",
       "Austria               15                                 1.0   \n",
       "\n",
       "Indicator  Educational attainment  Employees working very long hours  \\\n",
       "Country                                                                \n",
       "Australia                      77                              13.39   \n",
       "Austria                        84                               7.32   \n",
       "\n",
       "Indicator  Employment rate  Feeling safe walking alone at night  \\\n",
       "Country                                                           \n",
       "Australia               72                                 62.6   \n",
       "Austria                 71                                 81.2   \n",
       "\n",
       "Indicator  Homicide rate  Household net adjusted disposable income  \\\n",
       "Country                                                              \n",
       "Australia            0.8                                     33138   \n",
       "Austria              0.4                                     31667   \n",
       "\n",
       "Indicator  Household net financial wealth  Housing expenditure  \\\n",
       "Country                                                          \n",
       "Australia                           48836                   20   \n",
       "Austria                             55623                   21   \n",
       "\n",
       "Indicator         ...          Personal earnings  Quality of support network  \\\n",
       "Country           ...                                                          \n",
       "Australia         ...                      51148                          95   \n",
       "Austria           ...                      45988                          93   \n",
       "\n",
       "Indicator  Rooms per person  Self-reported health  \\\n",
       "Country                                             \n",
       "Australia               2.3                    85   \n",
       "Austria                 1.6                    69   \n",
       "\n",
       "Indicator  Stakeholder engagement for developing regulations  Student skills  \\\n",
       "Country                                                                        \n",
       "Australia                                                2.7             512   \n",
       "Austria                                                  1.3             500   \n",
       "\n",
       "Indicator  Time devoted to leisure and personal care  Voter turnout  \\\n",
       "Country                                                               \n",
       "Australia                                      14.35             93   \n",
       "Austria                                        14.55             75   \n",
       "\n",
       "Indicator  Water quality  Years in education  \n",
       "Country                                       \n",
       "Australia             94                19.2  \n",
       "Austria               93                17.1  \n",
       "\n",
       "[2 rows x 24 columns]"
      ]
     },
     "execution_count": 36,
     "metadata": {},
     "output_type": "execute_result"
    }
   ],
   "source": [
    "#Loading the BLI data and pivoting for the numerical values of each indicator for each Country. \n",
    "oecd_bli = pd.read_csv(\"./Data/BLI.csv\",thousands=',')\n",
    "oecd_bli = oecd_bli[oecd_bli[\"INEQUALITY\"]==\"TOT\"]\n",
    "oecd_bli = oecd_bli.pivot(index=\"Country\", columns=\"Indicator\", values=\"Value\")\n",
    "oecd_bli.head(2)"
   ]
  },
  {
   "cell_type": "code",
   "execution_count": 38,
   "metadata": {},
   "outputs": [
    {
     "data": {
      "text/html": [
       "<div>\n",
       "<table border=\"1\" class=\"dataframe\">\n",
       "  <thead>\n",
       "    <tr style=\"text-align: right;\">\n",
       "      <th></th>\n",
       "      <th>Subject Descriptor</th>\n",
       "      <th>Units</th>\n",
       "      <th>Scale</th>\n",
       "      <th>Country/Series-specific Notes</th>\n",
       "      <th>GDP per capita</th>\n",
       "      <th>Estimates Start After</th>\n",
       "    </tr>\n",
       "    <tr>\n",
       "      <th>Country</th>\n",
       "      <th></th>\n",
       "      <th></th>\n",
       "      <th></th>\n",
       "      <th></th>\n",
       "      <th></th>\n",
       "      <th></th>\n",
       "    </tr>\n",
       "  </thead>\n",
       "  <tbody>\n",
       "    <tr>\n",
       "      <th>Afghanistan</th>\n",
       "      <td>Gross domestic product per capita, current prices</td>\n",
       "      <td>U.S. dollars</td>\n",
       "      <td>Units</td>\n",
       "      <td>See notes for:  Gross domestic product, curren...</td>\n",
       "      <td>599.994</td>\n",
       "      <td>2013</td>\n",
       "    </tr>\n",
       "    <tr>\n",
       "      <th>Albania</th>\n",
       "      <td>Gross domestic product per capita, current prices</td>\n",
       "      <td>U.S. dollars</td>\n",
       "      <td>Units</td>\n",
       "      <td>See notes for:  Gross domestic product, curren...</td>\n",
       "      <td>3995.383</td>\n",
       "      <td>2010</td>\n",
       "    </tr>\n",
       "  </tbody>\n",
       "</table>\n",
       "</div>"
      ],
      "text/plain": [
       "                                            Subject Descriptor         Units  \\\n",
       "Country                                                                        \n",
       "Afghanistan  Gross domestic product per capita, current prices  U.S. dollars   \n",
       "Albania      Gross domestic product per capita, current prices  U.S. dollars   \n",
       "\n",
       "             Scale                      Country/Series-specific Notes  \\\n",
       "Country                                                                 \n",
       "Afghanistan  Units  See notes for:  Gross domestic product, curren...   \n",
       "Albania      Units  See notes for:  Gross domestic product, curren...   \n",
       "\n",
       "             GDP per capita  Estimates Start After  \n",
       "Country                                             \n",
       "Afghanistan         599.994                   2013  \n",
       "Albania            3995.383                   2010  "
      ]
     },
     "execution_count": 38,
     "metadata": {},
     "output_type": "execute_result"
    }
   ],
   "source": [
    "#Loading the GDP per capita data and renaming columns for clarity.\n",
    "gdp_per_capita = pd.read_csv(\"./Data/gdp_per_capita.csv\", thousands=',' , delimiter='\\t',\n",
    "                            encoding='latin1', na_values=\"n/a\", index_col=\"Country\")\n",
    "gdp_per_capita.rename(columns={\"2015\": \"GDP per capita\"}, inplace=True)\n",
    "gdp_per_capita.head(2)"
   ]
  },
  {
   "cell_type": "code",
   "execution_count": 40,
   "metadata": {},
   "outputs": [
    {
     "data": {
      "text/html": [
       "<div>\n",
       "<table border=\"1\" class=\"dataframe\">\n",
       "  <thead>\n",
       "    <tr style=\"text-align: right;\">\n",
       "      <th>Indicator</th>\n",
       "      <th>Air pollution</th>\n",
       "      <th>Dwellings without basic facilities</th>\n",
       "      <th>Educational attainment</th>\n",
       "      <th>Employees working very long hours</th>\n",
       "      <th>Employment rate</th>\n",
       "      <th>Feeling safe walking alone at night</th>\n",
       "      <th>Homicide rate</th>\n",
       "      <th>Household net adjusted disposable income</th>\n",
       "      <th>Household net financial wealth</th>\n",
       "      <th>Housing expenditure</th>\n",
       "      <th>...</th>\n",
       "      <th>Time devoted to leisure and personal care</th>\n",
       "      <th>Voter turnout</th>\n",
       "      <th>Water quality</th>\n",
       "      <th>Years in education</th>\n",
       "      <th>Subject Descriptor</th>\n",
       "      <th>Units</th>\n",
       "      <th>Scale</th>\n",
       "      <th>Country/Series-specific Notes</th>\n",
       "      <th>GDP per capita</th>\n",
       "      <th>Estimates Start After</th>\n",
       "    </tr>\n",
       "    <tr>\n",
       "      <th>Country</th>\n",
       "      <th></th>\n",
       "      <th></th>\n",
       "      <th></th>\n",
       "      <th></th>\n",
       "      <th></th>\n",
       "      <th></th>\n",
       "      <th></th>\n",
       "      <th></th>\n",
       "      <th></th>\n",
       "      <th></th>\n",
       "      <th></th>\n",
       "      <th></th>\n",
       "      <th></th>\n",
       "      <th></th>\n",
       "      <th></th>\n",
       "      <th></th>\n",
       "      <th></th>\n",
       "      <th></th>\n",
       "      <th></th>\n",
       "      <th></th>\n",
       "      <th></th>\n",
       "    </tr>\n",
       "  </thead>\n",
       "  <tbody>\n",
       "    <tr>\n",
       "      <th>South Africa</th>\n",
       "      <td>14</td>\n",
       "      <td>20.5</td>\n",
       "      <td>65</td>\n",
       "      <td>18.07</td>\n",
       "      <td>43</td>\n",
       "      <td>39.8</td>\n",
       "      <td>9.6</td>\n",
       "      <td>8712</td>\n",
       "      <td>16937</td>\n",
       "      <td>18</td>\n",
       "      <td>...</td>\n",
       "      <td>14.73</td>\n",
       "      <td>73</td>\n",
       "      <td>69</td>\n",
       "      <td>15.4</td>\n",
       "      <td>Gross domestic product per capita, current prices</td>\n",
       "      <td>U.S. dollars</td>\n",
       "      <td>Units</td>\n",
       "      <td>See notes for:  Gross domestic product, curren...</td>\n",
       "      <td>5694.572</td>\n",
       "      <td>2014</td>\n",
       "    </tr>\n",
       "    <tr>\n",
       "      <th>Brazil</th>\n",
       "      <td>17</td>\n",
       "      <td>6.7</td>\n",
       "      <td>46</td>\n",
       "      <td>9.45</td>\n",
       "      <td>67</td>\n",
       "      <td>39.5</td>\n",
       "      <td>26.7</td>\n",
       "      <td>11487</td>\n",
       "      <td>7566</td>\n",
       "      <td>21</td>\n",
       "      <td>...</td>\n",
       "      <td>14.27</td>\n",
       "      <td>79</td>\n",
       "      <td>73</td>\n",
       "      <td>15.6</td>\n",
       "      <td>Gross domestic product per capita, current prices</td>\n",
       "      <td>U.S. dollars</td>\n",
       "      <td>Units</td>\n",
       "      <td>See notes for:  Gross domestic product, curren...</td>\n",
       "      <td>8669.998</td>\n",
       "      <td>2014</td>\n",
       "    </tr>\n",
       "  </tbody>\n",
       "</table>\n",
       "<p>2 rows × 30 columns</p>\n",
       "</div>"
      ],
      "text/plain": [
       "Indicator     Air pollution  Dwellings without basic facilities  \\\n",
       "Country                                                           \n",
       "South Africa             14                                20.5   \n",
       "Brazil                   17                                 6.7   \n",
       "\n",
       "Indicator     Educational attainment  Employees working very long hours  \\\n",
       "Country                                                                   \n",
       "South Africa                      65                              18.07   \n",
       "Brazil                            46                               9.45   \n",
       "\n",
       "Indicator     Employment rate  Feeling safe walking alone at night  \\\n",
       "Country                                                              \n",
       "South Africa               43                                 39.8   \n",
       "Brazil                     67                                 39.5   \n",
       "\n",
       "Indicator     Homicide rate  Household net adjusted disposable income  \\\n",
       "Country                                                                 \n",
       "South Africa            9.6                                      8712   \n",
       "Brazil                 26.7                                     11487   \n",
       "\n",
       "Indicator     Household net financial wealth  Housing expenditure  \\\n",
       "Country                                                             \n",
       "South Africa                           16937                   18   \n",
       "Brazil                                  7566                   21   \n",
       "\n",
       "Indicator             ...            \\\n",
       "Country               ...             \n",
       "South Africa          ...             \n",
       "Brazil                ...             \n",
       "\n",
       "Indicator     Time devoted to leisure and personal care  Voter turnout  \\\n",
       "Country                                                                  \n",
       "South Africa                                      14.73             73   \n",
       "Brazil                                            14.27             79   \n",
       "\n",
       "Indicator     Water quality  Years in education  \\\n",
       "Country                                           \n",
       "South Africa             69                15.4   \n",
       "Brazil                   73                15.6   \n",
       "\n",
       "Indicator                                    Subject Descriptor         Units  \\\n",
       "Country                                                                         \n",
       "South Africa  Gross domestic product per capita, current prices  U.S. dollars   \n",
       "Brazil        Gross domestic product per capita, current prices  U.S. dollars   \n",
       "\n",
       "Indicator     Scale                      Country/Series-specific Notes  \\\n",
       "Country                                                                  \n",
       "South Africa  Units  See notes for:  Gross domestic product, curren...   \n",
       "Brazil        Units  See notes for:  Gross domestic product, curren...   \n",
       "\n",
       "Indicator     GDP per capita  Estimates Start After  \n",
       "Country                                              \n",
       "South Africa        5694.572                   2014  \n",
       "Brazil              8669.998                   2014  \n",
       "\n",
       "[2 rows x 30 columns]"
      ]
     },
     "execution_count": 40,
     "metadata": {},
     "output_type": "execute_result"
    }
   ],
   "source": [
    "# Merging both dataframes and sorting by the GDP per capita\n",
    "country_stats = pd.merge(left=oecd_bli, right=gdp_per_capita, left_index=True, right_index=True)\n",
    "country_stats.sort_values(by=\"GDP per capita\", inplace= True)\n",
    "country_stats.head(2)"
   ]
  },
  {
   "cell_type": "code",
   "execution_count": 55,
   "metadata": {},
   "outputs": [],
   "source": [
    "#Extracting the desired features into X and Y arrays\n",
    "X = np.c_[country_stats[\"GDP per capita\"]]\n",
    "y = np.c_[country_stats[\"Life satisfaction\"]]"
   ]
  },
  {
   "cell_type": "code",
   "execution_count": 53,
   "metadata": {},
   "outputs": [
    {
     "data": {
      "image/png": "[encoded data removed]",
      "text/plain": [
       "<matplotlib.figure.Figure at 0x7f5c707b79b0>"
      ]
     },
     "metadata": {},
     "output_type": "display_data"
    }
   ],
   "source": [
    "#Visualizing the data\n",
    "country_stats.plot(kind='scatter', x=\"GDP per capita\", y='Life satisfaction');\n",
    "plt.show()"
   ]
  },
  {
   "cell_type": "code",
   "execution_count": 62,
   "metadata": {},
   "outputs": [
    {
     "data": {
      "text/plain": [
       "(5.6656730772878445, 2.4666286830984237e-05)"
      ]
     },
     "execution_count": 62,
     "metadata": {},
     "output_type": "execute_result"
    }
   ],
   "source": [
    "#Selecting a linear model\n",
    "lin1 = linear_model.LinearRegression()\n",
    "#Training the model\n",
    "lin1.fit(X,y)\n",
    "t0, t1 = lin1.intercept_[0], lin1.coef_[0][0]\n",
    "t0, t1"
   ]
  },
  {
   "cell_type": "code",
   "execution_count": 75,
   "metadata": {},
   "outputs": [
    {
     "data": {
      "image/png": "[encoded data removed]",
      "text/plain": [
       "<matplotlib.figure.Figure at 0x7f5c66fa9d30>"
      ]
     },
     "metadata": {},
     "output_type": "display_data"
    }
   ],
   "source": [
    "#Plotting the the model obtained\n",
    "country_stats.plot(kind='scatter', x=\"GDP per capita\", y='Life satisfaction', figsize=(5,3))\n",
    "plt.axis([0, 60000, 0, 10])\n",
    "X=np.linspace(0, 60000, 1000)\n",
    "plt.plot(X, t0 + t1*X, \"b\")\n",
    "plt.text(5000, 3.1, r\"$\\theta_0 = 5.66$\", fontsize=14, color=\"b\")\n",
    "plt.text(5000, 2.2, r\"$\\theta_1 = 2.466 \\times 10^{-5}$\", fontsize=14, color=\"b\")\n",
    "\n",
    "plt.show()"
   ]
  },
  {
   "cell_type": "code",
   "execution_count": 72,
   "metadata": {},
   "outputs": [
    {
     "name": "stdout",
     "output_type": "stream",
     "text": [
      "22587.49 6.22282258442\n"
     ]
    }
   ],
   "source": [
    "#Making life satisfaction prediction for Cyprus from its GDP/capita\n",
    "cyprus_gdp_per_capita = gdp_per_capita.loc[\"Cyprus\"][\"GDP per capita\"]\n",
    "cyprus_predicted_life_satisfaction =lin1.predict(cyprus_gdp_per_capita)[0][0]\n",
    "print(cyprus_gdp_per_capita , cyprus_predicted_life_satisfaction)"
   ]
  },
  {
   "cell_type": "code",
   "execution_count": 76,
   "metadata": {},
   "outputs": [
    {
     "data": {
      "image/png": "[encoded data removed]",
      "text/plain": [
       "<matplotlib.figure.Figure at 0x7f5c66f769b0>"
      ]
     },
     "metadata": {},
     "output_type": "display_data"
    }
   ],
   "source": [
    "#Plotting prediction location on plot\n",
    "country_stats.plot(kind='scatter', x=\"GDP per capita\", y='Life satisfaction', figsize=(5,3), s=1)\n",
    "X=np.linspace(0, 60000, 1000)\n",
    "plt.plot(X, t0 + t1*X, \"b\")\n",
    "plt.axis([0, 60000, 0, 10])\n",
    "plt.text(5000, 7.5, r\"$\\theta_0 = 5.66$\", fontsize=14, color=\"b\")\n",
    "plt.text(5000, 6.6, r\"$\\theta_1 = 2.46 \\times 10^{-5}$\", fontsize=14, color=\"b\")\n",
    "plt.plot([cyprus_gdp_per_capita, cyprus_gdp_per_capita], [0, cyprus_predicted_life_satisfaction], \"r--\")\n",
    "plt.text(25000, 5.0, r\"Prediction = 6.22\", fontsize=14, color=\"b\")\n",
    "plt.plot(cyprus_gdp_per_capita, cyprus_predicted_life_satisfaction, \"ro\")\n",
    "plt.show()"
   ]
  },
  {
   "cell_type": "markdown",
   "metadata": {},
   "source": [
    "## Sources:\n",
    "\n",
    "1. Handson-ml-master GitHub: https://github.com/ageron/handson-ml\n",
    "2. OECD Dataset: http://stats.oecd.org/index.aspx?DataSetCode=BLI#"
   ]
  },
  {
   "cell_type": "code",
   "execution_count": null,
   "metadata": {},
   "outputs": [],
   "source": []
  }
 ],
 "metadata": {
  "kernelspec": {
   "display_name": "Python 3",
   "language": "python",
   "name": "python3"
  },
  "language_info": {
   "codemirror_mode": {
    "name": "ipython",
    "version": 3
   },
   "file_extension": ".py",
   "mimetype": "text/x-python",
   "name": "python",
   "nbconvert_exporter": "python",
   "pygments_lexer": "ipython3",
   "version": "3.5.2"
  }
 },
 "nbformat": 4,
 "nbformat_minor": 2
}
